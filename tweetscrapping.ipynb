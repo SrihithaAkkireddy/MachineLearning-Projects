{
 "cells": [
  {
   "cell_type": "markdown",
   "metadata": {},
   "source": [
    "# Program to extract 10 tweets from twitter using hashtags"
   ]
  },
  {
   "cell_type": "code",
   "execution_count": 1,
   "metadata": {},
   "outputs": [],
   "source": [
    "#importing libraries\n",
    "\n",
    "import json\n",
    "import tweepy\n",
    "import re"
   ]
  },
  {
   "cell_type": "code",
   "execution_count": 2,
   "metadata": {},
   "outputs": [],
   "source": [
    "def search_for_hashtags(consumer_key, consumer_secret, access_token, access_token_secret, hashtag_phrase):\n",
    "    \n",
    "    #create authentication for accessing Twitter\n",
    "    auth = tweepy.OAuthHandler(consumer_key, consumer_secret)\n",
    "    auth.set_access_token(access_token, access_token_secret)\n",
    "\n",
    "    #initialize Tweepy API\n",
    "    api = tweepy.API(auth)\n",
    "    tweets = tweepy.Cursor(api.search, q=hashtag_phrase, \\\n",
    "                            lang=\"en\", tweet_mode='extended').items(10)\n",
    "    count = 0        \n",
    "    for tweet in tweets:\n",
    "        count = count + 1\n",
    "        print(count,\". \", tweet.full_text)"
   ]
  },
  {
   "cell_type": "code",
   "execution_count": 3,
   "metadata": {},
   "outputs": [
    {
     "name": "stdout",
     "output_type": "stream",
     "text": [
      "Consumer Key xxxxxxxxxxxx\n",
      "Consumer Secret xxxxxxxxxxxxxxxxxxxxxxxxx\n",
      "Access Token xxxxxxxxxxxxxxxxxxx-xxxxxxxxxxxxxxxxxxxxxx\n",
      "Access Token Secret xxxxxxxxxxxxxxxxxxxxxxxxxxxxxxxxxxxxxxxxxx\n",
      "Hashtag Phrase covid19\n",
      "1 .  RT @JudithSeidman: \"There will be no Pfizer vaccine in India because the Indian regulator did not accept the clinical trial results from th…\n",
      "2 .  2x/n\n",
      "edit: my bad i put positive rate graphic above instead of r0\n",
      "r0 is below:\n",
      "also flat\n",
      "#COVID19 https://t.co/gr2pri6kQ6\n",
      "3 .  RT @richardhine: Hundreds of thousands of American lives could have been saved with a competent response to the virus.\n",
      "\n",
      "It’s one year since…\n",
      "4 .  RT @KanchanGupta: \"Pfizer Inc withdraws application for emergency-use authorisation of its #COVID19 vaccine in #India, after failing to mee…\n",
      "5 .  RT @wanderer_jasnah: one year ago, today:\n",
      "\n",
      "(https://t.co/y9OIIyY4MF Wenliang, having caught #SARSCoV2 himself, died of #COVID19 tonight. Ch…\n",
      "6 .  RT @erinmanalo: Any FilAms in Texas wanna organize around #COVID19? https://t.co/DeYfRjlW1o\n",
      "7 .  RT @GovMurphy: NEW JERSEY #COVID19 UPDATE:\n",
      "➡️3,783 new positive PCR tests\n",
      "➡️641,087 total positive PCR tests\n",
      "➡️933 new positive antigen tes…\n",
      "8 .  RT @christopher_clp: Off to the film set. I am armed with my Covid19 stuff. Covid19 safety measures in place. Have to be very strict. Keep…\n",
      "9 .  RT @GrittyNurse: I was told today by a nurse today that senior leaders and upper level management have received the second dose of vaccine…\n",
      "10 .  RT @BogochIsaac: There are many medical comorbidities that are risk factors for severe infection &amp; death related to #COVID19. \n",
      "\n",
      "But look at…\n"
     ]
    }
   ],
   "source": [
    "consumer_key = input('Consumer Key ')\n",
    "consumer_secret = input('Consumer Secret ')\n",
    "access_token = input('Access Token ')\n",
    "access_token_secret = input('Access Token Secret ')\n",
    "    \n",
    "hashtag_phrase = input('Hashtag Phrase ')\n",
    "#Calling function search_for_hashtags to authenticate twitter and search for tweets \n",
    "if __name__ == '__main__':\n",
    "    search_for_hashtags(consumer_key, consumer_secret, access_token, access_token_secret, hashtag_phrase)"
   ]
  },
  {
   "cell_type": "code",
   "execution_count": null,
   "metadata": {},
   "outputs": [],
   "source": []
  },
  {
   "cell_type": "code",
   "execution_count": null,
   "metadata": {},
   "outputs": [],
   "source": []
  }
 ],
 "metadata": {
  "kernelspec": {
   "display_name": "Python 3",
   "language": "python",
   "name": "python3"
  },
  "language_info": {
   "codemirror_mode": {
    "name": "ipython",
    "version": 3
   },
   "file_extension": ".py",
   "mimetype": "text/x-python",
   "name": "python",
   "nbconvert_exporter": "python",
   "pygments_lexer": "ipython3",
   "version": "3.8.5"
  }
 },
 "nbformat": 4,
 "nbformat_minor": 4
}
